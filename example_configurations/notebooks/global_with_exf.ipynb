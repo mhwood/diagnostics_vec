{
 "cells": [
  {
   "cell_type": "markdown",
   "metadata": {},
   "source": [
    "# Tutorial: global_with_exf\n",
    "\n",
    "### Written by M. Wood. June 2021\n",
    "\n",
    "This verification experiment is almost identical to the global_with_exf experiment configured with the files in the `global_with_exf/input` directory, except that it uses `diagnostics_vec` to output variables from the model and compares them to variables from the `diagnostics` package to show that the two packages are identical.\n",
    "\n",
    "The `global_with_exf` experiment provides a demonstration of a configuration that utilizes the `exf` package. In particular, the model implements a number of external forcing parameters including heat and salt fluxes, wind stress, and climatological sea surface temperature and salinity. Here, we demonstrate that the `diagnostics_vec` package can be used to output these variables from simulations in 2D surface grids.\n",
    "\n",
    "This tutorial follows 5 steps:\n",
    "1. Prepare the configuration\n",
    "2. Prepare the diagnostic_vec masks\n",
    "3. Build the model\n",
    "4. Run the model\n",
    "5. Compare diagnostics_vec vs diagnostics_output\n"
   ]
  },
  {
   "cell_type": "markdown",
   "metadata": {},
   "source": [
    "### 1. Prepare the configuration\n",
    "To prepare the configuration, `cd` to the `input_dv` directory within the `global_with_exf`  experiment. As for the code in the base experiment `input` directory, we provide a **prepare_run** script which can be used to generate all of the necessary files (aside from the few already provided). Run this from the command line, e.g.:"
   ]
  },
  {
   "cell_type": "raw",
   "metadata": {},
   "source": [
    "./prepare_run"
   ]
  },
  {
   "cell_type": "markdown",
   "metadata": {},
   "source": [
    "### 2. Prepare the diagnostics_vec masks"
   ]
  },
  {
   "cell_type": "markdown",
   "metadata": {},
   "source": [
    "The diagnostics_vec masks are generated using a simple Python script, `create_masks.py`, which is additionally provided in the input_dv directory. Create the masks (from within the input_dv directory) by running the script:"
   ]
  },
  {
   "cell_type": "raw",
   "metadata": {},
   "source": [
    "python3 create_masks.py"
   ]
  },
  {
   "cell_type": "markdown",
   "metadata": {},
   "source": [
    "This script creates five masks - four which laterally bound a subdomain in the pacific ocean, and one which covers the entire surface of the subdomain. To view these masks relative to the model bathymetry, we can read and plot them as follows:"
   ]
  },
  {
   "cell_type": "code",
   "execution_count": 2,
   "metadata": {},
   "outputs": [
    {
     "ename": "FileNotFoundError",
     "evalue": "[Errno 2] No such file or directory: '../../../../MITgcm_fresh/verification/global_with_exf/input_dv/lateral_mask_south.bin'",
     "output_type": "error",
     "traceback": [
      "\u001b[0;31m---------------------------------------------------------------------------\u001b[0m",
      "\u001b[0;31mFileNotFoundError\u001b[0m                         Traceback (most recent call last)",
      "\u001b[0;32m<ipython-input-2-b53d1b3b3193>\u001b[0m in \u001b[0;36m<module>\u001b[0;34m\u001b[0m\n\u001b[1;32m     17\u001b[0m \u001b[0;32mfor\u001b[0m \u001b[0mmask_name\u001b[0m \u001b[0;32min\u001b[0m \u001b[0mlateral_mask_names\u001b[0m\u001b[0;34m:\u001b[0m\u001b[0;34m\u001b[0m\u001b[0;34m\u001b[0m\u001b[0m\n\u001b[1;32m     18\u001b[0m     \u001b[0mmask_file\u001b[0m \u001b[0;34m=\u001b[0m \u001b[0mos\u001b[0m\u001b[0;34m.\u001b[0m\u001b[0mpath\u001b[0m\u001b[0;34m.\u001b[0m\u001b[0mjoin\u001b[0m\u001b[0;34m(\u001b[0m\u001b[0minput_dir\u001b[0m\u001b[0;34m,\u001b[0m\u001b[0mmask_name\u001b[0m\u001b[0;34m+\u001b[0m\u001b[0;34m'.bin'\u001b[0m\u001b[0;34m)\u001b[0m\u001b[0;34m\u001b[0m\u001b[0;34m\u001b[0m\u001b[0m\n\u001b[0;32m---> 19\u001b[0;31m     \u001b[0mmask_grid\u001b[0m \u001b[0;34m=\u001b[0m \u001b[0mnp\u001b[0m\u001b[0;34m.\u001b[0m\u001b[0mfromfile\u001b[0m\u001b[0;34m(\u001b[0m\u001b[0mmask_file\u001b[0m\u001b[0;34m,\u001b[0m\u001b[0mdtype\u001b[0m\u001b[0;34m=\u001b[0m\u001b[0;34m'>f4'\u001b[0m\u001b[0;34m)\u001b[0m\u001b[0;34m\u001b[0m\u001b[0;34m\u001b[0m\u001b[0m\n\u001b[0m\u001b[1;32m     20\u001b[0m     \u001b[0mmask_grid\u001b[0m \u001b[0;34m=\u001b[0m \u001b[0mnp\u001b[0m\u001b[0;34m.\u001b[0m\u001b[0mreshape\u001b[0m\u001b[0;34m(\u001b[0m\u001b[0mmask_grid\u001b[0m\u001b[0;34m,\u001b[0m\u001b[0;34m(\u001b[0m\u001b[0mNy\u001b[0m\u001b[0;34m,\u001b[0m\u001b[0mNx\u001b[0m\u001b[0;34m)\u001b[0m\u001b[0;34m)\u001b[0m\u001b[0;34m\u001b[0m\u001b[0;34m\u001b[0m\u001b[0m\n\u001b[1;32m     21\u001b[0m     \u001b[0mlateral_mask_grids\u001b[0m\u001b[0;34m.\u001b[0m\u001b[0mappend\u001b[0m\u001b[0;34m(\u001b[0m\u001b[0mmask_grid\u001b[0m\u001b[0;34m)\u001b[0m\u001b[0;34m\u001b[0m\u001b[0;34m\u001b[0m\u001b[0m\n",
      "\u001b[0;31mFileNotFoundError\u001b[0m: [Errno 2] No such file or directory: '../../../../MITgcm_fresh/verification/global_with_exf/input_dv/lateral_mask_south.bin'"
     ]
    }
   ],
   "source": [
    "import os\n",
    "import numpy as np\n",
    "import matplotlib.pyplot as plt\n",
    "from matplotlib.patches import Rectangle\n",
    "\n",
    "# set the path to the input directory (UPDATE FOR YOUR SYSTEM)\n",
    "input_dir = '../../../../MITgcm_fresh/verification/global_with_exf/input_dv'\n",
    "\n",
    "Nx = 90\n",
    "Ny = 40\n",
    "\n",
    "lateral_mask_names = ['lateral_mask_south','lateral_mask_north',\n",
    "              'lateral_mask_west','lateral_mask_east']\n",
    "\n",
    "# collect the mask files\n",
    "lateral_mask_grids = []\n",
    "for mask_name in lateral_mask_names:\n",
    "    mask_file = os.path.join(input_dir,mask_name+'.bin')\n",
    "    mask_grid = np.fromfile(mask_file,dtype='>f4')\n",
    "    mask_grid = np.reshape(mask_grid,(Ny,Nx))\n",
    "    lateral_mask_grids.append(mask_grid)\n",
    "surface_mask_file = os.path.join(input_dir,'surface_mask.bin')\n",
    "surface_mask_grid = np.fromfile(surface_mask_file,dtype='>f4')\n",
    "surface_mask_grid = np.reshape(surface_mask_grid,(Ny,Nx))\n",
    "\n",
    "# read the bathymetry\n",
    "bathy_file = os.path.join(input_dir,'bathymetry.bin')\n",
    "bathy_grid = np.fromfile(bathy_file,dtype='>f4')\n",
    "bathy_grid = np.reshape(bathy_grid,(Ny,Nx))\n",
    "\n",
    "# plot the masks on the bathymetry\n",
    "fig = plt.figure(figsize=(10,8))\n",
    "mask_plot_colors = ['red','orange','green','purple']\n",
    "\n",
    "plt.subplot(2,1,1)\n",
    "plt.title('Lateral Masks')\n",
    "C = plt.imshow(bathy_grid,origin='lower',cmap='Blues_r')\n",
    "cbar = plt.colorbar(C)\n",
    "cbar.set_label('Bathymetry (m)')\n",
    "for mn in range(len(lateral_mask_grids)):\n",
    "    rows,cols = np.where(lateral_mask_grids[mn]!=0)\n",
    "    for pt in range(len(rows)):\n",
    "        rect = Rectangle((cols[pt],rows[pt]),1,1,color=mask_plot_colors[mn])\n",
    "        plt.gca().add_patch(rect)\n",
    "plt.text(45,5,'lateral mask south',color=mask_plot_colors[0],ha='center',va='center',\n",
    "         bbox=dict(boxstyle=\"round\",ec=mask_plot_colors[0],fc='w'))\n",
    "plt.text(45,35,'lateral mask north',color=mask_plot_colors[1],ha='center',va='center',\n",
    "         bbox=dict(boxstyle=\"round\",ec=mask_plot_colors[1],fc='w'))\n",
    "plt.text(23,20,'lateral mask\\nwest',color=mask_plot_colors[2],ha='right',va='center',\n",
    "         bbox=dict(boxstyle=\"round\",ec=mask_plot_colors[2],fc='w'))\n",
    "plt.text(69,20,'lateral mask\\neast',color=mask_plot_colors[3],ha='left',va='center',\n",
    "         bbox=dict(boxstyle=\"round\",ec=mask_plot_colors[3],fc='w'))\n",
    "\n",
    "plt.gca().set_xticks([])\n",
    "plt.gca().set_yticks([])\n",
    "\n",
    "plt.subplot(2,1,2)\n",
    "plt.title('Surface Mask')\n",
    "C = plt.imshow(bathy_grid,origin='lower',cmap='Blues_r')\n",
    "cbar = plt.colorbar(C)\n",
    "cbar.set_label('Bathymetry (m)')\n",
    "rows,cols = np.where(surface_mask_grid!=0)\n",
    "rect = Rectangle((np.min(cols),np.min(rows)),\n",
    "                 np.max(cols)-np.min(cols),np.max(rows)-np.min(rows),\n",
    "                 color='red',hatch='//',fill=False)\n",
    "plt.gca().add_patch(rect)\n",
    "plt.text(45,20,'surface mask',color='red',ha='center',va='center',\n",
    "         bbox=dict(boxstyle=\"round\",ec='red',fc='w'))\n",
    "\n",
    "plt.gca().set_xticks([])\n",
    "plt.gca().set_yticks([])\n",
    "\n",
    "plt.show()"
   ]
  },
  {
   "cell_type": "markdown",
   "metadata": {},
   "source": [
    "### 3. Build the model\n",
    "For this experiement, we provide options for configuring the model with and without MPI. As the use of MPI will alter the format of the model output from the `diagnostics` package (which we will compare shortly) identify whether MPI is used in your configuration here:"
   ]
  },
  {
   "cell_type": "code",
   "execution_count": 7,
   "metadata": {
    "collapsed": true
   },
   "outputs": [],
   "source": [
    "usingMPI = True"
   ]
  },
  {
   "cell_type": "markdown",
   "metadata": {},
   "source": [
    "Now, build the model following the general build sequence for your system"
   ]
  },
  {
   "cell_type": "markdown",
   "metadata": {},
   "source": [
    "### 4. Run the model\n",
    "With the model built, run it as you would on your system."
   ]
  }
 ],
 "metadata": {
  "kernelspec": {
   "display_name": "mitgcm",
   "language": "python",
   "name": "mitgcm"
  },
  "language_info": {
   "codemirror_mode": {
    "name": "ipython",
    "version": 3
   },
   "file_extension": ".py",
   "mimetype": "text/x-python",
   "name": "python",
   "nbconvert_exporter": "python",
   "pygments_lexer": "ipython3",
   "version": "3.8.8"
  }
 },
 "nbformat": 4,
 "nbformat_minor": 1
}
